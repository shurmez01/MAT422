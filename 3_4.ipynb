{
  "nbformat": 4,
  "nbformat_minor": 0,
  "metadata": {
    "colab": {
      "provenance": [],
      "authorship_tag": "ABX9TyO+kCaiYtd+6RNMHawch/ha",
      "include_colab_link": true
    },
    "kernelspec": {
      "name": "python3",
      "display_name": "Python 3"
    },
    "language_info": {
      "name": "python"
    }
  },
  "cells": [
    {
      "cell_type": "markdown",
      "metadata": {
        "id": "view-in-github",
        "colab_type": "text"
      },
      "source": [
        "<a href=\"https://colab.research.google.com/github/shurmez01/MAT422/blob/main/3_4.ipynb\" target=\"_parent\"><img src=\"https://colab.research.google.com/assets/colab-badge.svg\" alt=\"Open In Colab\"/></a>"
      ]
    },
    {
      "cell_type": "markdown",
      "source": [
        "Logistic Regression"
      ],
      "metadata": {
        "id": "aGxyGMETJKGx"
      }
    },
    {
      "cell_type": "markdown",
      "source": [
        "1. Breast cancer dataset\n",
        "Given the python cell below as we can see by the output we are working with the two given points that are shown below on the output of the cell. One point being the x-axis in which looks to be a simple data point from the given set as well as the y-axis which is labeled as the target point from the same set of data."
      ],
      "metadata": {
        "id": "uG8Uzi1lL1lm"
      }
    },
    {
      "cell_type": "code",
      "source": [
        "from sklearn.linear_model import LogisticRegression as LR\n",
        "from sklearn.datasets import load_breast_cancer\n",
        "from sklearn.datasets import load_iris\n",
        "import numpy as np\n",
        "import matplotlib.pyplot as plt\n",
        "from sklearn.model_selection import train_test_split\n",
        "from sklearn.metrics import accuracy_score\n",
        "\n",
        "# breast cancer dataset\n",
        "data = load_breast_cancer()\n",
        "X = data.data\n",
        "y = data.target\n",
        "X.data.shape"
      ],
      "metadata": {
        "colab": {
          "base_uri": "https://localhost:8080/"
        },
        "id": "fILimmWOKehB",
        "outputId": "bd7bfd90-a16a-42dc-ee67-e17ea05d6b47"
      },
      "execution_count": 11,
      "outputs": [
        {
          "output_type": "execute_result",
          "data": {
            "text/plain": [
              "(569, 30)"
            ]
          },
          "metadata": {},
          "execution_count": 11
        }
      ]
    },
    {
      "cell_type": "code",
      "source": [
        "\n",
        "lrl1 = LR(penalty=\"l1\",solver=\"liblinear\",C=0.5,max_iter=1000)\n",
        "lrl1 = lrl1.fit(X,y)\n",
        "lrl1.coef_\n",
        "\n",
        "(lrl1.coef_ != 0).sum(axis=1)#array([10])\n",
        "\n",
        "lrl2 = LR(penalty=\"l2\",solver=\"liblinear\",C=0.5,max_iter=1000)\n",
        "lrl2 = lrl2.fit(X,y)\n",
        "lrl2.coef_"
      ],
      "metadata": {
        "colab": {
          "base_uri": "https://localhost:8080/"
        },
        "id": "9qHbYa5WKoPu",
        "outputId": "dfeaf261-fe65-45b5-85c5-a9044c481e50"
      },
      "execution_count": 12,
      "outputs": [
        {
          "output_type": "execute_result",
          "data": {
            "text/plain": [
              "array([[ 1.61331113e+00,  1.00124606e-01,  4.60084835e-02,\n",
              "        -4.19839426e-03, -9.26228937e-02, -3.00484301e-01,\n",
              "        -4.53250190e-01, -2.19778015e-01, -1.33074668e-01,\n",
              "        -1.92576286e-02,  1.89635811e-02,  8.74998561e-01,\n",
              "         1.32421950e-01, -9.53784315e-02, -9.62972408e-03,\n",
              "        -2.53596204e-02, -5.83890299e-02, -2.67755115e-02,\n",
              "        -2.73846616e-02, -8.05302922e-05,  1.28529688e+00,\n",
              "        -3.00088054e-01, -1.74310770e-01, -2.23545072e-02,\n",
              "        -1.70267493e-01, -8.77272211e-01, -1.15830085e+00,\n",
              "        -4.22526360e-01, -4.12406225e-01, -8.66393364e-02]])"
            ]
          },
          "metadata": {},
          "execution_count": 12
        }
      ]
    },
    {
      "cell_type": "markdown",
      "source": [
        "2. Iris dataset\n",
        "The cell below as we can see uses the dataset from the imported \"iris\" data that was initialized above. From that we can gather from all the cells below the same \"iris\" data is being utilized to predict certain porbabilities as we can see by the array below. Furthermore utilizing the same dataset we can see the computation of a point in the output of the last cell as the \"score\"."
      ],
      "metadata": {
        "id": "gwI00dqQLwvG"
      }
    },
    {
      "cell_type": "code",
      "source": [
        "from sklearn.linear_model import LogisticRegression\n",
        "logReg = LogisticRegression(solver='lbfgs', max_iter=3000)\n",
        "\n",
        "# load the data\n",
        "X, y = load_iris(return_X_y=True)\n",
        "\n",
        "# fit the data to the LR model\n",
        "clf = LR(random_state=0).fit(X, y)\n",
        "\n",
        "# give predictions\n",
        "clf.predict(X[:2, :])"
      ],
      "metadata": {
        "colab": {
          "base_uri": "https://localhost:8080/"
        },
        "id": "ZuDD7awwKs_n",
        "outputId": "8ab689b1-9bf6-4f4d-a2f4-a9f8aa788700"
      },
      "execution_count": 24,
      "outputs": [
        {
          "output_type": "stream",
          "name": "stderr",
          "text": [
            "/usr/local/lib/python3.10/dist-packages/sklearn/linear_model/_logistic.py:458: ConvergenceWarning: lbfgs failed to converge (status=1):\n",
            "STOP: TOTAL NO. of ITERATIONS REACHED LIMIT.\n",
            "\n",
            "Increase the number of iterations (max_iter) or scale the data as shown in:\n",
            "    https://scikit-learn.org/stable/modules/preprocessing.html\n",
            "Please also refer to the documentation for alternative solver options:\n",
            "    https://scikit-learn.org/stable/modules/linear_model.html#logistic-regression\n",
            "  n_iter_i = _check_optimize_result(\n"
          ]
        }
      ]
    },
    {
      "cell_type": "code",
      "source": [
        "clf.predict_proba(X[:2, :])"
      ],
      "metadata": {
        "colab": {
          "base_uri": "https://localhost:8080/"
        },
        "id": "C-VR7UOgLgLN",
        "outputId": "acea2afa-1b8e-4ff1-aeed-9798c589823d"
      },
      "execution_count": 28,
      "outputs": [
        {
          "output_type": "execute_result",
          "data": {
            "text/plain": [
              "array([[9.81799409e-01, 1.82005762e-02, 1.43509289e-08],\n",
              "       [9.71722782e-01, 2.82771875e-02, 3.00214335e-08]])"
            ]
          },
          "metadata": {},
          "execution_count": 28
        }
      ]
    },
    {
      "cell_type": "code",
      "source": [
        "\n",
        "clf.score(X, y)"
      ],
      "metadata": {
        "colab": {
          "base_uri": "https://localhost:8080/"
        },
        "id": "9ewZQ6psLler",
        "outputId": "436436b0-b86f-4d96-de23-e912eaee8b5d"
      },
      "execution_count": 27,
      "outputs": [
        {
          "output_type": "execute_result",
          "data": {
            "text/plain": [
              "0.9733333333333334"
            ]
          },
          "metadata": {},
          "execution_count": 27
        }
      ]
    },
    {
      "cell_type": "code",
      "source": [
        "from sklearn.metrics import classification_report, confusion_matrix\n",
        "x = np.arange(10).reshape(-1, 1)\n",
        "y = np.array([0, 0, 0, 0, 1, 1, 1, 1, 1, 1])\n",
        "print(x)\n",
        "print(y)\n",
        "\n",
        "model = LogisticRegression(solver='liblinear', random_state=0)\n",
        "\n",
        "model.fit(x, y)\n",
        "\n",
        "model = LogisticRegression(solver='liblinear', random_state=0).fit(x, y)\n",
        "\n",
        "model.classes_\n",
        "print(model.classes_)\n",
        "\n",
        "model.intercept_\n",
        "print(model.intercept_)\n",
        "\n",
        "model.coef_\n",
        "print(model.coef_)\n",
        "\n",
        "model.predict_proba(x)\n",
        "print(model.predict_proba(x))\n",
        "\n",
        "model.predict(x)\n",
        "print(model.predict(x))\n",
        "\n",
        "model.score(x, y)\n",
        "print(model.score(x, y))\n",
        "\n",
        "confusion_matrix(y, model.predict(x))\n",
        "print(confusion_matrix(y, model.predict(x)))\n",
        "\n",
        "cm = confusion_matrix(y, model.predict(x))\n",
        "\n",
        "fig, ax = plt.subplots(figsize=(8, 8))\n",
        "ax.imshow(cm)\n",
        "ax.grid(False)\n",
        "ax.xaxis.set(ticks=(0, 1), ticklabels=('Predicted 0s', 'Predicted 1s'))\n",
        "ax.yaxis.set(ticks=(0, 1), ticklabels=('Actual 0s', 'Actual 1s'))\n",
        "ax.set_ylim(1.5, -0.5)\n",
        "for i in range(2):\n",
        "    for j in range(2):\n",
        "        ax.text(j, i, cm[i, j], ha='center', va='center', color='red')\n",
        "plt.show()\n",
        "\n",
        "print(classification_report(y, model.predict(x)))"
      ],
      "metadata": {
        "colab": {
          "base_uri": "https://localhost:8080/",
          "height": 1000
        },
        "id": "TwlD4zexMWWD",
        "outputId": "6fd6b6f8-6a6a-436a-c312-d2a00f55fc90"
      },
      "execution_count": 30,
      "outputs": [
        {
          "output_type": "stream",
          "name": "stdout",
          "text": [
            "[[0]\n",
            " [1]\n",
            " [2]\n",
            " [3]\n",
            " [4]\n",
            " [5]\n",
            " [6]\n",
            " [7]\n",
            " [8]\n",
            " [9]]\n",
            "[0 0 0 0 1 1 1 1 1 1]\n",
            "[0 1]\n",
            "[-1.04608067]\n",
            "[[0.51491375]]\n",
            "[[0.74002157 0.25997843]\n",
            " [0.62975524 0.37024476]\n",
            " [0.5040632  0.4959368 ]\n",
            " [0.37785549 0.62214451]\n",
            " [0.26628093 0.73371907]\n",
            " [0.17821501 0.82178499]\n",
            " [0.11472079 0.88527921]\n",
            " [0.07186982 0.92813018]\n",
            " [0.04422513 0.95577487]\n",
            " [0.02690569 0.97309431]]\n",
            "[0 0 0 1 1 1 1 1 1 1]\n",
            "0.9\n",
            "[[3 1]\n",
            " [0 6]]\n"
          ]
        },
        {
          "output_type": "display_data",
          "data": {
            "text/plain": [
              "<Figure size 800x800 with 1 Axes>"
            ],
            "image/png": "[encoded data removed]"
          },
          "metadata": {}
        },
        {
          "output_type": "stream",
          "name": "stdout",
          "text": [
            "              precision    recall  f1-score   support\n",
            "\n",
            "           0       1.00      0.75      0.86         4\n",
            "           1       0.86      1.00      0.92         6\n",
            "\n",
            "    accuracy                           0.90        10\n",
            "   macro avg       0.93      0.88      0.89        10\n",
            "weighted avg       0.91      0.90      0.90        10\n",
            "\n"
          ]
        }
      ]
    }
  ]
}