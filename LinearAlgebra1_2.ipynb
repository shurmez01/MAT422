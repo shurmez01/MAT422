{
  "nbformat": 4,
  "nbformat_minor": 0,
  "metadata": {
    "colab": {
      "provenance": [],
      "authorship_tag": "ABX9TyN8l1Rur/dh+4v7Jq7+bJnQ",
      "include_colab_link": true
    },
    "kernelspec": {
      "name": "python3",
      "display_name": "Python 3"
    },
    "language_info": {
      "name": "python"
    }
  },
  "cells": [
    {
      "cell_type": "markdown",
      "metadata": {
        "id": "view-in-github",
        "colab_type": "text"
      },
      "source": [
        "<a href=\"https://colab.research.google.com/github/shurmez01/MAT422/blob/main/LinearAlgebra1_2.ipynb\" target=\"_parent\"><img src=\"https://colab.research.google.com/assets/colab-badge.svg\" alt=\"Open In Colab\"/></a>"
      ]
    },
    {
      "cell_type": "markdown",
      "source": [
        "**Chapter 1.2 Elements of Linear Algebra**\n",
        "\n",
        "\n"
      ],
      "metadata": {
        "id": "nS2IqzYnRnkq"
      }
    },
    {
      "cell_type": "markdown",
      "source": [
        "1.2.1: Linear Spaces\n",
        "\n",
        "In this section we will be covering linear combinations, linear independence, and dimension.\n",
        "\n",
        "A **linear combination** is a new vector that is being created through a subset by multiplying each vector (quantity that has magnitude and direction) by a constant and then adding those results\n"
      ],
      "metadata": {
        "id": "ntpE6cvdRx85"
      }
    },
    {
      "cell_type": "code",
      "source": [
        "import numpy as np\n",
        "x = np.array([[0, 1, 1],\n",
        "              [0, 1, 0],\n",
        "              [1, 0, 1]])\n",
        "y = ([0.5, 1.5, 3.5])\n",
        "scalars = np.linalg.solve(x, y)\n",
        "scalars"
      ],
      "metadata": {
        "colab": {
          "base_uri": "https://localhost:8080/"
        },
        "id": "Aw59UAuvYd5h",
        "outputId": "a3e1d0fc-ddbf-4162-c2ee-16feafce315d"
      },
      "execution_count": 5,
      "outputs": [
        {
          "output_type": "execute_result",
          "data": {
            "text/plain": [
              "array([ 4.5,  1.5, -1. ])"
            ]
          },
          "metadata": {},
          "execution_count": 5
        }
      ]
    },
    {
      "cell_type": "markdown",
      "source": [
        "Here we can see that the vector y=(0.5,1.5,3.5) can be written as a linear combination for the unit vectors (0,1,1), (0,1,0) and (1,0,1)\n",
        "\n",
        "Now we can take multiple linear combinations, and turn that into a span. The official definition of **span** is  the span(W1,...,Wm) is the set of all linear combinations of Wj's given that W1,...,Wm is an element of V.\n",
        "\n",
        "**Linear Independence:** A list of vectors (u1, ..., um) is linearly\n",
        "independent if none of them can be written as a linear combination of the\n",
        "others."
      ],
      "metadata": {
        "id": "8ZM1_03JZpjA"
      }
    },
    {
      "cell_type": "code",
      "source": [
        "x = np.array([1, 2])\n",
        "y = np.array([2, 4])\n",
        "z = np.array([5, 6])\n",
        "\n",
        "def dependence(vector1, vector2):\n",
        "  matrix = np.stack((vector1, vector2), axis = -1)\n",
        "  det = np.linalg.det(matrix)\n",
        "  if det == 0:\n",
        "    print(\"the vectors are linearly dependent\")\n",
        "  else:\n",
        "    print(\"the vectors are linearly independent\")\n",
        "\n",
        "dependence(x, y)\n",
        "dependence(x, z)\n",
        "dependence(y, z)\n"
      ],
      "metadata": {
        "colab": {
          "base_uri": "https://localhost:8080/"
        },
        "id": "ihEoGr38iOqh",
        "outputId": "d795629f-0a23-4a70-9f3f-978b58ae0d0d"
      },
      "execution_count": 23,
      "outputs": [
        {
          "output_type": "stream",
          "name": "stdout",
          "text": [
            "the vectors are linearly dependent\n",
            "the vectors are linearly independent\n",
            "the vectors are linearly independent\n"
          ]
        }
      ]
    },
    {
      "cell_type": "markdown",
      "source": [
        "This code is a simple way to check the linear dependence or independence of two vectors by using the determinant of a matrix formed by the vectors. We can further this concept into understanding dimensions.\n",
        "\n",
        "**Basis**: A basis for a vector is a set of linearly independent vectors that can be combined in unique ways to represent any vector in that space\n",
        "\n",
        "**Dimension**: The dimension of a vector space is the number of vectors or elements in its basis.\n",
        "- Theorem 1.2.8 (Dimension Theorem) Let U be a linear subspace of V . Any\n",
        "basis of U always has the same number of elements. All bases of U have the\n",
        "same length, that is, the same number of elements. We call this number the\n",
        "dimension of U and denote it dim(U)\n",
        "\n",
        "**Rank and Nullity**:\n",
        "Rank- maximum number of linearly independent columns (or rows)\n",
        "Nullity - dimension of the null space (the solutions to the homogeneous equation Ax = 0).\n",
        "\n"
      ],
      "metadata": {
        "id": "c8oWjlskmTk2"
      }
    },
    {
      "cell_type": "code",
      "source": [
        "\n",
        "v1 = np.array([1, 0])\n",
        "v2 = np.array([0, 1])\n",
        "v3 = np.array([2, 2])\n",
        "\n",
        "vectors = np.array([v1, v2, v3])\n",
        "\n",
        "rank = np.linalg.matrix_rank(vectors)\n",
        "dimension = vectors.shape[1]\n",
        "\n",
        "if rank == dimension:\n",
        "    print(\"Vectors are linearly independent.\")\n",
        "else:\n",
        "    print(\"Vectors are linearly dependent.\")\n",
        "\n",
        "print(\"Rank:\", rank)\n",
        "print(\"Dimension:\", dimension)"
      ],
      "metadata": {
        "colab": {
          "base_uri": "https://localhost:8080/"
        },
        "id": "ykAzKq1Oq_yl",
        "outputId": "9078e5dd-0909-4091-d670-4a389117309d"
      },
      "execution_count": 24,
      "outputs": [
        {
          "output_type": "stream",
          "name": "stdout",
          "text": [
            "Vectors are linearly independent.\n",
            "Rank: 2\n",
            "Dimension: 2\n"
          ]
        }
      ]
    },
    {
      "cell_type": "markdown",
      "source": [
        "1.2.2: Orthogonality\n",
        "\n",
        "Two vectors, A and B, are **orthogonal** if their inner product (dot product) is equal to zero. Mathematically, if A and B are orthogonal, then their inner product A ⋅ B = 0.\n",
        "\n",
        "**orthonormal** : Basis for a vector space in which the basis vectors are not only linearly independent but also have a length (norm) of 1 and are mutually orthogonal (perpendicular) to each other\n",
        "\n",
        "**Orthogonal Projection** : Method that finds the closest point on the subspace to a given point\n",
        "\n",
        "**scalar projection** : scalar projection is given by the dot product of a vector with a unit vector for that direction."
      ],
      "metadata": {
        "id": "72p8Ja-JrjJo"
      }
    },
    {
      "cell_type": "code",
      "source": [
        "v = np.array([3, 4])\n",
        "subspace_vector = np.array([1, 1])\n",
        "\n",
        "scalar_projection = np.dot(v, subspace_vector) / np.dot(subspace_vector, subspace_vector)\n",
        "orthogonal_projection = scalar_projection * subspace_vector\n",
        "\n",
        "print(\"Given vector:\", v)\n",
        "print(\"Subspace vector:\", subspace_vector)\n",
        "print(\"Orthogonal projection:\", orthogonal_projection)"
      ],
      "metadata": {
        "colab": {
          "base_uri": "https://localhost:8080/"
        },
        "id": "ARQxNLjhx5VG",
        "outputId": "c4babeba-23ab-47a3-ae42-44bc42cad6ee"
      },
      "execution_count": 36,
      "outputs": [
        {
          "output_type": "stream",
          "name": "stdout",
          "text": [
            "Given vector: [3 4]\n",
            "Subspace vector: [1 1]\n",
            "Orthogonal projection: [3.5 3.5]\n"
          ]
        }
      ]
    },
    {
      "cell_type": "markdown",
      "source": [
        "1.2.4: Eigenvalues and Eigenvectors\n",
        "\n",
        "(Eigenvalues and eigenvectors): Let A ∈ Rd×d be a square matrix. Then λ ∈ R is an eigenvalue of A if there exists a nonzero vector x not equal to 0 such that Ax = λ x.\n",
        "\n"
      ],
      "metadata": {
        "id": "Q7m3AlYr1UNf"
      }
    },
    {
      "cell_type": "code",
      "source": [
        "matrix = np.array([[0, -1],[1, 0]])\n",
        "\n",
        "eigenvalues, eigenvectors = np.linalg.eig(matrix)\n",
        "\n",
        "print(\"Matrix:\", matrix)\n",
        "print(\"Eigenvalues:\", eigenvalues)\n",
        "print(\"Eigenvectors:\", eigenvectors)"
      ],
      "metadata": {
        "colab": {
          "base_uri": "https://localhost:8080/"
        },
        "id": "ImdFc0552X3d",
        "outputId": "6d560af3-22df-4ab2-acae-4249c2a020d5"
      },
      "execution_count": 41,
      "outputs": [
        {
          "output_type": "stream",
          "name": "stdout",
          "text": [
            "Matrix: [[ 0 -1]\n",
            " [ 1  0]]\n",
            "Eigenvalues: [0.+1.j 0.-1.j]\n",
            "Eigenvectors: [[0.70710678+0.j         0.70710678-0.j        ]\n",
            " [0.        -0.70710678j 0.        +0.70710678j]]\n"
          ]
        }
      ]
    },
    {
      "cell_type": "markdown",
      "source": [
        "Above we can see that this matrix doesn't have linearly independent eigenvectors, because x1, x2 cannot both be 0,\n",
        "λ must satisfy the equation λ^2 = −1 for which there is no real solution\n",
        "\n",
        "Theorem 1.2.25 If A is symmetric,then any two eigenvectors from different\n",
        "eigenspaces are orthogonal"
      ],
      "metadata": {
        "id": "H18R48-W3HEt"
      }
    },
    {
      "cell_type": "code",
      "source": [
        "symmetric_matrix = np.array([[2, -1],[-1, 3]])\n",
        "\n",
        "eigenvalues, eigenvectors = np.linalg.eig(symmetric_matrix)\n",
        "normalized_eigenvectors = eigenvectors / np.linalg.norm(eigenvectors, axis=0)\n",
        "\n",
        "print(\"Symmetric Matrix:\", symmetric_matrix)\n",
        "print(\"Eigenvalues:\", eigenvalues)\n",
        "print(\"Normalized Eigenvectors:\", normalized_eigenvectors)\n",
        "\n",
        "dot_product = np.dot(normalized_eigenvectors[:, 0], normalized_eigenvectors[:, 1])\n",
        "print(\"Dot Product of Eigenvectors 0 and 1:\", dot_product)"
      ],
      "metadata": {
        "colab": {
          "base_uri": "https://localhost:8080/"
        },
        "id": "T6Ht4BNU3Gw_",
        "outputId": "40d40c71-fa9b-4746-abb5-abfa7950f35e"
      },
      "execution_count": 42,
      "outputs": [
        {
          "output_type": "stream",
          "name": "stdout",
          "text": [
            "Symmetric Matrix:\n",
            "[[ 2 -1]\n",
            " [-1  3]]\n",
            "Eigenvalues: [1.38196601 3.61803399]\n",
            "Normalized Eigenvectors:\n",
            "[[-0.85065081  0.52573111]\n",
            " [-0.52573111 -0.85065081]]\n",
            "Dot Product of Eigenvectors 0 and 1: 0.0\n"
          ]
        }
      ]
    }
  ]
}