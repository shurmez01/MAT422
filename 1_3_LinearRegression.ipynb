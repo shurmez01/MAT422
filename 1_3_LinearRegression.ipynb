{
  "nbformat": 4,
  "nbformat_minor": 0,
  "metadata": {
    "colab": {
      "provenance": [],
      "authorship_tag": "ABX9TyOhOzaoxjpnd0cokwttVZii",
      "include_colab_link": true
    },
    "kernelspec": {
      "name": "python3",
      "display_name": "Python 3"
    },
    "language_info": {
      "name": "python"
    }
  },
  "cells": [
    {
      "cell_type": "markdown",
      "metadata": {
        "id": "view-in-github",
        "colab_type": "text"
      },
      "source": [
        "<a href=\"https://colab.research.google.com/github/shurmez01/MAT422/blob/main/1_3_LinearRegression.ipynb\" target=\"_parent\"><img src=\"https://colab.research.google.com/assets/colab-badge.svg\" alt=\"Open In Colab\"/></a>"
      ]
    },
    {
      "cell_type": "markdown",
      "source": [
        "**Homework 1.3**"
      ],
      "metadata": {
        "id": "a1nxtXXNaoev"
      }
    },
    {
      "cell_type": "markdown",
      "metadata": {
        "id": "lhrk1xBIHPJF"
      },
      "source": [
        "####The Gram-Schmidt orthogonalization process\n",
        "Let $V$ be a vector space with an inner product. Suppose $\\textbf{x}_1,\\textbf{x}2,\\cdots ,\\textbf{x}_n$ is a basis for $V$. Let\n",
        "\\begin{array}\\\\\n",
        "\\textbf{v}_1 = \\textbf{x}_1,\\\\\n",
        "\\textbf{v}_2 = \\textbf{x}_2 −\\frac{⟨\\textbf{x}_2, \\textbf{v}_1⟩}{⟨\\textbf{v}_1, \\textbf{v}_1⟩}\n",
        "\\textbf{v}_1,\\\\\n",
        "\\textbf{v}_3 = \\textbf{x}_3-\\frac{⟨\\textbf{x}_3, \\textbf{v}_1⟩}{⟨\\textbf{v}_1, \\textbf{v}_1⟩}\\textbf{v}_1−\\frac{⟨\\textbf{x}_3, \\textbf{v}_2⟩}{⟨\\textbf{v}_2, \\textbf{v}_2⟩}\\textbf{v}_2,\\\\\n",
        "\\vdots\\\\\n",
        "\\textbf{v}_n = \\textbf{x}_n-\\frac{⟨\\textbf{x}_n, \\textbf{v}_1⟩}{⟨\\textbf{v}_1, \\textbf{v}_1⟩}\\textbf{v}_1−\\cdots-\\frac{⟨\\textbf{x}_n, \\textbf{v}_{n-1}⟩}{⟨\\textbf{v}_{n-1}, \\textbf{v}_{n-1}⟩}\\textbf{v}_{n-1},\\\\\n",
        "\\end{array}\n",
        "Then $\\textbf{v}_1,\\textbf{v}_2,\\cdots,\\textbf{v}_n$ is an orthogonal basis for $V$"
      ]
    },
    {
      "cell_type": "code",
      "source": [
        "import numpy as np\n",
        "def gram_schmidt(V):\n",
        "    O = np.zeros(V.shape)\n",
        "    for i in range(V.shape[1]):\n",
        "        # orthogonalization\n",
        "        vector = V[:, i]\n",
        "        space = O[:, :i]\n",
        "        projection = vector @ space\n",
        "        vector = vector - np.sum(projection * space, axis=1)\n",
        "        # normalization\n",
        "        norm = np.sqrt(vector @ vector)\n",
        "        vector /=round(abs(norm),ndigits=0)  < 1e-8 and 1 or norm\n",
        "\n",
        "        O[:, i] = vector\n",
        "    return O\n",
        "\n",
        "    # 6 column vectors in 4D, only 3 are independent\n",
        "vectors = np.array([\n",
        "    [1, 2, 2, 0, 1, 1],\n",
        "    [0, 0, 0, 1, 2, 1],\n",
        "    [1, 2, 3, 1, 3, 2],\n",
        "    [1, 0, 1, 0, 1, 1]\n",
        "], dtype=float)\n",
        "orthonormal = gram_schmidt(vectors)\n",
        "print(orthonormal)\n",
        "orthonormal.T @ orthonormal"
      ],
      "metadata": {
        "colab": {
          "base_uri": "https://localhost:8080/"
        },
        "id": "Y4ZJB0oSXmO-",
        "outputId": "cfa27945-f6a8-43fe-cdd2-1dc4eafc42c8"
      },
      "execution_count": 1,
      "outputs": [
        {
          "output_type": "stream",
          "name": "stdout",
          "text": [
            "[[ 5.77350269e-01  4.08248290e-01 -7.07106781e-01  0.00000000e+00\n",
            "   0.00000000e+00 -4.44089210e-16]\n",
            " [ 0.00000000e+00  0.00000000e+00  0.00000000e+00  1.00000000e+00\n",
            "   1.33226763e-15  6.66133815e-16]\n",
            " [ 5.77350269e-01  4.08248290e-01  7.07106781e-01 -8.88178420e-16\n",
            "   8.88178420e-16  4.44089210e-16]\n",
            " [ 5.77350269e-01 -8.16496581e-01 -1.88411095e-15  1.16573418e-15\n",
            "  -6.66133815e-16 -6.66133815e-16]]\n"
          ]
        },
        {
          "output_type": "execute_result",
          "data": {
            "text/plain": [
              "array([[ 1.00000000e+00, -3.63848840e-16, -2.96825176e-16,\n",
              "         1.60246891e-16,  1.28197512e-16, -3.84592537e-16],\n",
              "       [-3.63848840e-16,  1.00000000e+00,  2.08914268e-15,\n",
              "        -1.31441529e-15,  9.06493304e-16,  5.43895982e-16],\n",
              "       [-2.96825176e-16,  2.08914268e-15,  1.00000000e+00,\n",
              "        -6.28036983e-16,  6.28036983e-16,  6.28036983e-16],\n",
              "       [ 1.60246891e-16, -1.31441529e-15, -6.28036983e-16,\n",
              "         1.00000000e+00,  1.33226763e-15,  6.66133815e-16],\n",
              "       [ 1.28197512e-16,  9.06493304e-16,  6.28036983e-16,\n",
              "         1.33226763e-15,  3.00753220e-30,  1.72563323e-30],\n",
              "       [-3.84592537e-16,  5.43895982e-16,  6.28036983e-16,\n",
              "         6.66133815e-16,  1.72563323e-30,  1.28189897e-30]])"
            ]
          },
          "metadata": {},
          "execution_count": 1
        }
      ]
    },
    {
      "cell_type": "code",
      "source": [
        "print(__doc__)\n",
        "\n",
        "\n",
        "# Code source: Jaques Grobler\n",
        "# link: https://scikit-learn.org/stable/auto_examples/linear_model/plot_ols.html\n",
        "# License: BSD 3 clause\n",
        "\n",
        "\n",
        "import matplotlib.pyplot as plt\n",
        "import numpy as np\n",
        "from sklearn import datasets, linear_model\n",
        "from sklearn.metrics import mean_squared_error, r2_score\n",
        "\n",
        "# Load the diabetes dataset\n",
        "diabetes_X, diabetes_y = datasets.load_diabetes(return_X_y=True)\n",
        "\n",
        "# Use only one feature\n",
        "diabetes_X = diabetes_X[:, np.newaxis, 2]\n",
        "\n",
        "# Split the data into training/testing sets\n",
        "diabetes_X_train = diabetes_X[:-20]\n",
        "diabetes_X_test = diabetes_X[-20:]\n",
        "\n",
        "# Split the targets into training/testing sets\n",
        "diabetes_y_train = diabetes_y[:-20]\n",
        "diabetes_y_test = diabetes_y[-20:]\n",
        "\n",
        "# Create linear regression object\n",
        "regr = linear_model.LinearRegression()\n",
        "\n",
        "# Train the model using the training sets\n",
        "regr.fit(diabetes_X_train, diabetes_y_train)\n",
        "\n",
        "# Make predictions using the testing set\n",
        "diabetes_y_pred = regr.predict(diabetes_X_test)\n",
        "\n",
        "# The coefficients\n",
        "print('Coefficients: \\n', regr.coef_)\n",
        "# The mean squared error\n",
        "print('Mean squared error: %.2f'\n",
        "      % mean_squared_error(diabetes_y_test, diabetes_y_pred))\n",
        "# The coefficient of determination: 1 is perfect prediction\n",
        "print('Coefficient of determination: %.2f'\n",
        "      % r2_score(diabetes_y_test, diabetes_y_pred))\n",
        "\n",
        "# Plot outputs\n",
        "plt.scatter(diabetes_X_test, diabetes_y_test,  color='black')\n",
        "plt.plot(diabetes_X_test, diabetes_y_pred, color='blue', linewidth=3)\n",
        "\n",
        "plt.xticks(())\n",
        "plt.yticks(())\n",
        "\n",
        "plt.show()"
      ],
      "metadata": {
        "id": "k6wY-2tRa1uO"
      },
      "execution_count": null,
      "outputs": []
    },
    {
      "cell_type": "markdown",
      "source": [],
      "metadata": {
        "id": "d4ruS8RBbmOU"
      }
    },
    {
      "cell_type": "markdown",
      "metadata": {
        "id": "5f71klZ8SdUS"
      },
      "source": [
        "Theorem 1.3.2 (Normal Equations) <br>\n",
        "Let $A \\in \\mathbb{R}^{n\\times m}$ be an $n \\times m$ matrix with\n",
        "linearly independent columns and let $\\textbf{b} \\in \\mathbb{R}^n$ be a vector. The solution to the least-squares problem\n",
        "$$\\min_{x\\in\\mathbb{R}^m}||A\\textbf{x}−\\textbf{b}||.$$\n",
        "satisfies\n",
        "$$A^TA\\textbf{x}=A^T\\textbf{b}$$\n",
        "which are known as the normal equations.\n",
        "\n",
        "\n",
        "\n"
      ]
    },
    {
      "cell_type": "code",
      "source": [
        "import numpy as np\n",
        "def gram_schmidt(A):\n",
        "    \"\"\"Gram-schmidt Orthogonalization\"\"\"\n",
        "    Q=np.zeros_like(A)\n",
        "    cnt = 0\n",
        "    for a in A.T:\n",
        "        u = np.copy(a)\n",
        "        for i in range(0, cnt):\n",
        "            u -= np.dot(np.dot(Q[:, i].T, a), Q[:, i])\n",
        "        e = u / np.linalg.norm(u)  # normalization\n",
        "        Q[:, cnt] = e\n",
        "        cnt += 1\n",
        "    R = np.dot(Q.T, A)\n",
        "    return (Q, R)\n",
        "\n",
        "np.set_printoptions(precision=4, suppress=True)\n",
        "A = np.array([[1,-1],[1, 0],[1, 1]], dtype = float)\n",
        "\n",
        "(Q, R) = gram_schmidt(A)\n",
        "print(Q)\n",
        "print(R)\n",
        "print(np.dot(Q, R))\n",
        "b = np.array([[-4],[4],[6]], dtype = float)\n",
        "print(\"Vector b\")\n",
        "print(b)\n",
        "QT = np.transpose(Q)\n",
        "print(\"Q Transposed\")\n",
        "print(QT)\n",
        "R1 = np.linalg.inv(R)\n",
        "print(\"Inverse of R\")\n",
        "print(R1)\n",
        "print(\"x = R^-1*Q(Transposed)b\")\n",
        "mult1 = np.dot(QT,b)\n",
        "mult2 = np.dot(R1,mult1)\n",
        "print(mult2)"
      ],
      "metadata": {
        "colab": {
          "base_uri": "https://localhost:8080/"
        },
        "id": "dB3i-NaibbkH",
        "outputId": "af311280-c031-415b-fe20-359a6856f9e3"
      },
      "execution_count": 2,
      "outputs": [
        {
          "output_type": "stream",
          "name": "stdout",
          "text": [
            "[[ 0.5774 -0.7071]\n",
            " [ 0.5774  0.    ]\n",
            " [ 0.5774  0.7071]]\n",
            "[[1.7321 0.    ]\n",
            " [0.     1.4142]]\n",
            "[[ 1. -1.]\n",
            " [ 1.  0.]\n",
            " [ 1.  1.]]\n",
            "Vector b\n",
            "[[-4.]\n",
            " [ 4.]\n",
            " [ 6.]]\n",
            "Q Transposed\n",
            "[[ 0.5774  0.5774  0.5774]\n",
            " [-0.7071  0.      0.7071]]\n",
            "Inverse of R\n",
            "[[0.5774 0.    ]\n",
            " [0.     0.7071]]\n",
            "x = R^-1*Q(Transposed)b\n",
            "[[2.]\n",
            " [5.]]\n"
          ]
        }
      ]
    },
    {
      "cell_type": "markdown",
      "source": [],
      "metadata": {
        "id": "aLAPjZrob1oA"
      }
    },
    {
      "cell_type": "markdown",
      "metadata": {
        "id": "UZTlUHZLTWjp"
      },
      "source": [
        "##1.3.3 Linear Regression\n"
      ]
    },
    {
      "cell_type": "markdown",
      "metadata": {
        "id": "G-MoOGcfusRX"
      },
      "source": [
        "To estimate $\\textbf{b}$ using the Ordinary Linear Regression method, we need to calculate Amean and bmean, the covariance of $A$ and $\\textbf{b}$ (Abcov), and the variance of $A$ (Avar) before we can determine the values for $\\alpha$ and $\\beta$."
      ]
    },
    {
      "cell_type": "code",
      "source": [
        "import pandas as pd\n",
        "%matplotlib inline\n",
        "import matplotlib.pyplot as plt\n",
        "\n",
        "# Generate 'random' data\n",
        "np.random.seed(0)\n",
        "A = 5 * np.random.randn(100)\n",
        "res = np.random.randn(100)\n",
        "b = 1 + 3 * A + res\n",
        "\n",
        "# Create pandas dataframe to store our A and b values\n",
        "df = pd.DataFrame(\n",
        "    {'A': A,\n",
        "     'b': b}\n",
        ")\n",
        "\n",
        "# Show the first five rows of our dataframe\n",
        "df.head()\n",
        "# Calculate the mean of A and b\n",
        "Amean = np.mean(A)\n",
        "bmean = np.mean(b)\n",
        "\n",
        "# Calculate the terms needed for the numator and denominator of beta\n",
        "df['Abcov'] = (df['A'] - Amean) * (df['b'] - bmean)\n",
        "df['Avar'] = (df['A'] - Amean)**2\n",
        "\n",
        "# Calculate beta and alpha\n",
        "beta = df['Abcov'].sum() / df['Avar'].sum()\n",
        "alpha = bmean - (beta * Amean)\n",
        "print(f'alpha = {alpha}')\n",
        "print(f'beta = {beta}')\n",
        "\n",
        "# get a prediction\n",
        "ypredict = alpha + beta * A\n",
        "\n",
        "plt.plot(A, ypred, \"r--\")\n",
        "plt.plot(A, b, \"b.\")\n",
        "plt.axis([0, 2, 0, 15])\n",
        "plt.show()"
      ],
      "metadata": {
        "colab": {
          "base_uri": "https://localhost:8080/",
          "height": 466
        },
        "id": "BpcNmYxXcNAS",
        "outputId": "750e83f9-02bd-4875-ffb1-f316d2878293"
      },
      "execution_count": 8,
      "outputs": [
        {
          "output_type": "stream",
          "name": "stdout",
          "text": [
            "alpha = 1.0751530850525142\n",
            "beta = 3.022939686709276\n"
          ]
        },
        {
          "output_type": "display_data",
          "data": {
            "text/plain": [
              "<Figure size 640x480 with 1 Axes>"
            ],
            "image/png": "[encoded data removed]"
          },
          "metadata": {}
        }
      ]
    }
  ]
}