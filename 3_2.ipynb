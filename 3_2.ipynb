{
  "nbformat": 4,
  "nbformat_minor": 0,
  "metadata": {
    "colab": {
      "provenance": [],
      "authorship_tag": "ABX9TyOFdI4sdm7GEbIeqHJcVE0h",
      "include_colab_link": true
    },
    "kernelspec": {
      "name": "python3",
      "display_name": "Python 3"
    },
    "language_info": {
      "name": "python"
    }
  },
  "cells": [
    {
      "cell_type": "markdown",
      "metadata": {
        "id": "view-in-github",
        "colab_type": "text"
      },
      "source": [
        "<a href=\"https://colab.research.google.com/github/shurmez01/MAT422/blob/main/3_2.ipynb\" target=\"_parent\"><img src=\"https://colab.research.google.com/assets/colab-badge.svg\" alt=\"Open In Colab\"/></a>"
      ]
    },
    {
      "cell_type": "markdown",
      "source": [
        "3.2.1 Limits and Continuity\n",
        "Rolle's Theorem: Let  𝑓:[𝑎,𝑏]→ℝ  be a continuous function and assume that its derivative exists on  (𝑎,𝑏) . If  𝑓(𝑎)=𝑓(𝑏) , then there is  𝑎<𝑐<𝑏  such that  𝑓′(𝑐)=0 .\n",
        "\n",
        "Mean Value Theorem: Let  𝑓:[𝑎,𝑏]→ℝ  be a continuous function and assume that its derivative exists on  (𝑎,𝑏) . Then there is  𝑎<𝑐<𝑏  such that  𝑓(𝑏)=𝑓(𝑎)+(𝑏−𝑎)𝑓′(𝑐)  or put differently  𝑓(𝑏)−𝑓(𝑎)𝑏−𝑎=𝑓′(𝑐) ."
      ],
      "metadata": {
        "id": "m_0SXvZhryci"
      }
    },
    {
      "cell_type": "code",
      "execution_count": 4,
      "metadata": {
        "colab": {
          "base_uri": "https://localhost:8080/"
        },
        "id": "p5UzVa8to-Mz",
        "outputId": "2a2f033b-52fd-4083-d463-57162a3edbef"
      },
      "outputs": [
        {
          "output_type": "stream",
          "name": "stdout",
          "text": [
            "1\n",
            "E\n",
            "1st derivative w.r.t x:  2*cos(2*x)\n",
            "2nd derivative w.r.t x:  -4*sin(2*x)\n",
            "3rd derivative w.r.t x:  -8*cos(2*x)\n",
            "\n",
            " x*(x**2*y**2*cos(x*y) + 6*x*y*sin(x*y) - 6*cos(x*y))\n"
          ]
        }
      ],
      "source": [
        "# import library\n",
        "import sympy as sym\n",
        "\n",
        "# pythonic math expressions: add spaces, use single quotes and lowercases\n",
        "# declaring variables\n",
        "x, y, z, a, b, c = sym.symbols('x, y, z, a, b, c')\n",
        "\n",
        "f = sym.sin(x) / x\n",
        "print(sym.limit(f, x, 0))\n",
        "\n",
        "n = sym.symbols('n')\n",
        "print(sym.limit(((n + 3) / (n + 2)) ** n, n, sym.oo)) # oo is mathematical infinity\n",
        "\n",
        "# declaring variables\n",
        "x, y, z, a, b, c = sym.symbols('x, y, z, a, b, c')\n",
        "\n",
        "# we take the derivative using diff\n",
        "# diff (function, independent variable, number of derivatives)\n",
        "\n",
        "exp1 = sym.diff(sym.sin(2 * x), x)\n",
        "print('1st derivative w.r.t x: ', exp1)\n",
        "\n",
        "exp2 = sym.diff(sym.sin(2*x), x, 2)\n",
        "print('2nd derivative w.r.t x: ', exp2)\n",
        "\n",
        "exp3 = sym.diff(sym.sin(2*x), x, 3)\n",
        "print('3rd derivative w.r.t x: ', exp3)\n",
        "\n",
        "exp4 = sym.diff(sym.sin(x*y), x, 2, y, 3)\n",
        "print('\\n', exp4)\n",
        ""
      ]
    },
    {
      "cell_type": "markdown",
      "metadata": {
        "id": "rUYdhMunHUHS"
      },
      "source": [
        "# 3.2.2 General Case\n",
        "\n",
        "**Partial Derivative**: Let $f:D\\rightarrow\\mathbb{R}$ where $D\\subseteq\\mathbb{R}^d$ and let $x_0\\in D$ be an interior point of $D$. The partial derivative of $f$ at $x_0$ with respect to $x_i$ is $\\frac{\\partial f(x_0)}{\\partial x_i} = \\lim_{h\\to 0} \\frac{f(x_0 + he_i) - f(x_0)}{h}$.\n",
        "\n",
        "**Jacobian**: Let $f = f(f_1,...,f_m):D\\rightarrow\\mathbb{R}^m$ where $D\\subseteq\\mathbb{R}^d$ and let $x_0\\in D$ be an interior point of $D$ where $\\frac{\\partial f_j(x_0)}{\\partial x_i}$ exists for all $i,j$. The Jacobian of $f$ at $x_0$ is the $d\\times m$ matrix $J_f(x_0) = \\begin{pmatrix} \\frac{\\partial f_1(x_0)}{\\partial x_1} & \\dots & \\frac{\\partial f_1(x_0)}{\\partial x_d} \\\\ \\vdots & \\ddots & \\vdots \\\\ \\frac{\\partial f_m(x_0)}{\\partial x_1} & \\dots & \\frac{\\partial f_m(x_0)}{\\partial x_d} \\end{pmatrix}$. For a real-valued function $f:D\\rightarrow\\mathbb{R}$, the Jacobian reducted to the row vector $J_f(x_0) = \\nabla f(x_0)^T$, where the vector $\\nabla f(x_0) = (\\frac{\\partial f(x_0)}{\\partial x_1},\\dots,\\frac{\\partial f(x_0)}{\\partial x_d})^T$ is the gradient of $f$ at $x_0$.\n",
        "\n",
        "**Gradient** of the affine function $f(x) = q^T(x) + r$ is $\\nabla f(x) = q$.\n",
        "**Gradient** of the quadratic function $f(x) = x^TPx + q^Tx + r$, where $x = (x_1,...,x_d)^T, q = (q_1,...,q_d)^T\\in\\mathbb{R}^d$ and $P\\in\\mathbb{R}^{d\\times d}$. The gradient of $f$ is $\\nabla f(x) = [P + P^T]x + q$.\n",
        "\n",
        "**Directional Derivative**: Let $f:D\\to\\mathbb{R}$ where $D\\subseteq\\mathbb{R}^d$, let $x_0\\in D$ be an interior point of $D$ and let $v\\in\\mathbb{R}^d$ be a unit vector. The directional derivative of $f$ at $x_0$ in the direction $v$ is $\\frac{\\partial f(x_0)}{\\partial v} = \\lim_{h\\to 0}\\frac{f(x_0+h_v) - f(x_0)}{h}$, provided the limit exists.\n",
        "\n",
        "**Hessian**: the Jacobian of the gradient $\\nabla f$ is called the Hessian and is denoted by $H_f(x_0) = \\begin{pmatrix} \\frac{\\partial^2 f(x_0)}{\\partial x_1^2} & \\dots & \\frac{\\partial^2 f(x_0)}{\\partial x_d \\partial x_1} \\\\ \\vdots & \\ddots & \\vdots \\\\ \\frac{\\partial^2 f(x_0)}{\\partial x_1 \\partial x_d} & \\dots & \\frac{\\partial^2 f(x_0)}{\\partial x_d^2} \\end{pmatrix}$."
      ]
    },
    {
      "cell_type": "code",
      "source": [
        "x, y, z = sym.symbols('x, y, z')\n",
        "exp6 = sym.exp(x * y * z)\n",
        "sym.diff(exp6, x)"
      ],
      "metadata": {
        "colab": {
          "base_uri": "https://localhost:8080/",
          "height": 39
        },
        "id": "H1YDgJZasQWk",
        "outputId": "665d035e-0c16-44d6-bbb4-62da340eb31d"
      },
      "execution_count": 16,
      "outputs": [
        {
          "output_type": "execute_result",
          "data": {
            "text/plain": [
              "y*z*exp(x*y*z)"
            ],
            "text/latex": "$\\displaystyle y z e^{x y z}$"
          },
          "metadata": {},
          "execution_count": 16
        }
      ]
    },
    {
      "cell_type": "code",
      "source": [
        "sym.diff(exp6, x, x)"
      ],
      "metadata": {
        "colab": {
          "base_uri": "https://localhost:8080/",
          "height": 39
        },
        "id": "xs7DjtoBuRuj",
        "outputId": "bc82648d-a8e7-43e4-acc9-6c7ee0182cc4"
      },
      "execution_count": 13,
      "outputs": [
        {
          "output_type": "execute_result",
          "data": {
            "text/plain": [
              "y**2*z**2*exp(x*y*z)"
            ],
            "text/latex": "$\\displaystyle y^{2} z^{2} e^{x y z}$"
          },
          "metadata": {},
          "execution_count": 13
        }
      ]
    },
    {
      "cell_type": "code",
      "source": [
        "sym.diff(exp6, x, y)"
      ],
      "metadata": {
        "colab": {
          "base_uri": "https://localhost:8080/",
          "height": 39
        },
        "id": "-cWzgaaBuUfd",
        "outputId": "2f64491d-d8d1-47d7-a8f9-01600fc4b137"
      },
      "execution_count": 14,
      "outputs": [
        {
          "output_type": "execute_result",
          "data": {
            "text/plain": [
              "z*(x*y*z + 1)*exp(x*y*z)"
            ],
            "text/latex": "$\\displaystyle z \\left(x y z + 1\\right) e^{x y z}$"
          },
          "metadata": {},
          "execution_count": 14
        }
      ]
    },
    {
      "cell_type": "code",
      "source": [
        "sym.diff(exp6, x, y, z)"
      ],
      "metadata": {
        "colab": {
          "base_uri": "https://localhost:8080/",
          "height": 39
        },
        "id": "uCvWRl9luWVB",
        "outputId": "71ff4ba0-0f5e-426d-86d1-e245b8cf7eb8"
      },
      "execution_count": 15,
      "outputs": [
        {
          "output_type": "execute_result",
          "data": {
            "text/plain": [
              "(x**2*y**2*z**2 + 3*x*y*z + 1)*exp(x*y*z)"
            ],
            "text/latex": "$\\displaystyle \\left(x^{2} y^{2} z^{2} + 3 x y z + 1\\right) e^{x y z}$"
          },
          "metadata": {},
          "execution_count": 15
        }
      ]
    },
    {
      "cell_type": "markdown",
      "metadata": {
        "id": "T-XxCGKBMMn7"
      },
      "source": [
        "#3.2.3 Taylor's Theorem\n",
        "**Taylor's Theorem**: Let $f:D\\to\\mathbb{R}$ where $D\\subseteq\\mathbb{R}$. Suppose $f$ has a $m$ time continuous derivative on $[a,b]$. Then $f(b) = f(a) + (b-a)f'(a) + \\frac{1}{2}(b-a)^2f''(a)+ ... + \\frac{(b-a)^{m-1}}{(m-1)!}f^{m-1}(a)+R_m$, where $R_m = \\frac{(b-a)^m}{(m)!}f^{(m)}(a+\\theta (b-a))$ for some $0 < \\theta < 1$. In particular, for $m = 2$, we have $f(b) = f(a) + (b-a)f'(a) + \\frac{1}{2}(b-a)^2f''(\\xi)$ for some $a < \\xi < b$.\n",
        "\n",
        "**Multivariate Mean Value Theorem**: Let $f:D\\to\\mathbb{R}$ where $D\\subseteq\\mathbb{R}^d$. Let $x_0\\in D$ and $\\delta > 0$ be such that $B_\\delta(x_0)\\subseteq D$. If $f$ is continuously differentiable on $B_\\delta(x_0)$, then for any $x\\in B_\\delta(x_0)$, $f(x) = f(x_0) + \\nabla f(x_0 + \\xi p)^Tp$ for some $\\xi\\in (0,1)$, where $p = x - x_0$.\n",
        "\n",
        "**Multivariate Taylor Theorem**: Let $f:D\\to\\mathbb{R}$ where $D\\subseteq\\mathbb{R}^d$. Let $x_0\\in D$ and $\\xi > 0$ be such that $B_\\delta(x_0)\\subseteq D$. If $f$ is three times continuously differentiable on $B_\\delta(x_0)$, then for any $x\\in B_\\delta(x_0)$, $f(x) = f(x_0) + \\nabla f(x_0)^Tp + \\frac{1}{2}p^TH_f(x_0)p + O(|p||^3)$, where $p = x - x_0$."
      ]
    },
    {
      "cell_type": "code",
      "source": [
        "from sympy import sin, cos, Matrix\n",
        "from sympy.abc import rho, phi\n",
        "\n",
        "X = Matrix([rho * cos(phi), rho * sin(phi), rho ** 2])\n",
        "Y = Matrix([rho, phi])\n",
        "X.jacobian(Y)"
      ],
      "metadata": {
        "colab": {
          "base_uri": "https://localhost:8080/",
          "height": 78
        },
        "id": "HTN7_19Vw01Z",
        "outputId": "5ace83a1-6905-42f9-ad7f-a71edbcf7ad4"
      },
      "execution_count": 17,
      "outputs": [
        {
          "output_type": "execute_result",
          "data": {
            "text/plain": [
              "Matrix([\n",
              "[cos(phi), -rho*sin(phi)],\n",
              "[sin(phi),  rho*cos(phi)],\n",
              "[   2*rho,             0]])"
            ],
            "text/latex": "$\\displaystyle \\left[\\begin{matrix}\\cos{\\left(\\phi \\right)} & - \\rho \\sin{\\left(\\phi \\right)}\\\\\\sin{\\left(\\phi \\right)} & \\rho \\cos{\\left(\\phi \\right)}\\\\2 \\rho & 0\\end{matrix}\\right]$"
          },
          "metadata": {},
          "execution_count": 17
        }
      ]
    },
    {
      "cell_type": "code",
      "source": [
        "import sympy as sy\n",
        "from sympy.matrices import *\n",
        "x, t, a, h, k = sy.symbols('x t a h k')\n",
        "x0, t0 = sy.symbols('x_0, t_0')\n",
        "\n",
        "v = sy.Function('v')(x, t)\n",
        "X = Matrix([x,t])\n",
        "dX = Matrix([h,k])\n",
        "sy.init_printing()\n",
        "\n",
        "\n",
        "dX,x\n",
        ""
      ],
      "metadata": {
        "colab": {
          "base_uri": "https://localhost:8080/",
          "height": 58
        },
        "id": "uTLQNJTaxTgc",
        "outputId": "2715ccfd-efa5-4b65-ddf7-c15ed1638309"
      },
      "execution_count": 23,
      "outputs": [
        {
          "output_type": "execute_result",
          "data": {
            "text/plain": [
              "⎛⎡h⎤   ⎞\n",
              "⎜⎢ ⎥, x⎟\n",
              "⎝⎣k⎦   ⎠"
            ],
            "text/latex": "$\\displaystyle \\left( \\left[\\begin{matrix}h\\\\k\\end{matrix}\\right], \\  x\\right)$"
          },
          "metadata": {},
          "execution_count": 23
        }
      ]
    }
  ]
}